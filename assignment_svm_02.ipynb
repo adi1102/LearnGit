{
  "cells": [
    {
      "cell_type": "code",
      "execution_count": 328,
      "metadata": {
        "scrolled": true,
        "id": "4F4V4d4m2liT"
      },
      "outputs": [],
      "source": [
        "import numpy as np\n",
        "import matplotlib.pyplot as plt\n",
        "from sklearn.model_selection import train_test_split \n",
        "from sklearn.metrics.pairwise import euclidean_distances\n",
        "import cvxpy as cp\n",
        "import pandas as pd\n",
        "from scipy.spatial.distance import pdist, squareform\n"
      ]
    },
    {
      "cell_type": "markdown",
      "metadata": {
        "id": "VroQtJL_2lim"
      },
      "source": [
        "## Implementation of Soft Margin SVC with RBF kernel\n",
        "\n",
        "In this assigment you will implement a soft margin SVM problem on non- linear separable data. Many parts will be equivalent to last weeks assignment, only that the linear kernel $K_{lin}$ formulations must be replaced by the RBF kernel $K_{RBF}$.\n",
        "\n",
        "This time the resulting classifier will be tested on unseen labeled data.\n",
        "\n",
        "You will conduct parameter tuning as well as model selection for better results using scikit learns function."
      ]
    },
    {
      "cell_type": "markdown",
      "metadata": {
        "id": "NgHEHLh92liv"
      },
      "source": [
        "### Training data set\n",
        "Training data is the XOR dataset with labeled 40 samples.\n",
        "\n",
        "**1. Add random noise with mean 0 and standard deviation 0.2**"
      ]
    },
    {
      "cell_type": "code",
      "execution_count": 329,
      "metadata": {
        "scrolled": true,
        "id": "9m40fibc2li5"
      },
      "outputs": [],
      "source": [
        "np.random.seed(400)\n",
        "X = np.random.randn(40, 2)\n",
        "y = np.logical_xor(X[:, 0] > 0, X[:, 1] > 0)\n",
        "y= np.where(y, 1, -1)\n",
        "\n",
        "# Your code here\n",
        "\n",
        "noise = np.random.normal(0,0.2)\n",
        "# print(y.shape)\n",
        "# End your code\n",
        "\n",
        "X =X+noise"
      ]
    },
    {
      "cell_type": "markdown",
      "metadata": {
        "id": "GDNe6uO22li-"
      },
      "source": [
        "### Test set for later use\n",
        "\n",
        "**2. Generate 20 examples of XOR data. Use random seed ``800``.**\n",
        "\n",
        "The test data will not be used until the SVM classification function is defined in task.\n"
      ]
    },
    {
      "cell_type": "code",
      "execution_count": 330,
      "metadata": {
        "scrolled": true,
        "id": "5DdTxluh2ljB"
      },
      "outputs": [],
      "source": [
        "# Your code here\n",
        "np.random.seed(800)\n",
        "X_test = X[:20]\n",
        "y_test = y[:20]\n",
        "\n",
        "# End your code\n",
        "# print(X_test)\n",
        "# print(y_test)"
      ]
    },
    {
      "cell_type": "markdown",
      "metadata": {
        "id": "Q3LkOt0T2ljE"
      },
      "source": [
        "###  Implementing the SVC task with RBF - Kernel.\n",
        "\n",
        "In this task the kernel matrix $K_{rbf}$ with entries \n",
        "\n",
        "\\begin{align}K(x_i, x_j)=\\exp(-\\gamma||x_i-x_j||²), \\quad i,j \\in 1,2,\\cdots,N \\end{align}\n",
        "\n",
        "will be defined. First\n",
        "\n",
        "**3. Define a function called ``pairwise_dists`` for arrays ``A``.** \n",
        "\n",
        "For the feature vector $X$ this function returns a matrix ``dist``  whose elements are the pairwise distances between all entries $x_i, x_j \\in X.$\n",
        "\n",
        "``dist``$  = \\begin{bmatrix} \n",
        "    \\|x_1-x_1\\| & \\|x_1-x_2\\| &\\dots \\|x_1-x_N\\|\\\\\n",
        "    \\vdots & \\vdots &  \\vdots \\\\\n",
        "    \\|x_N-x_1\\| & \\|x_N-x_2\\|   &\\dots \\|x_N-x_N\\| \n",
        "    \\end{bmatrix}, \n",
        "$\n",
        "\n",
        "\n",
        "where $\\begin{align} \\|x_i- x_j\\|=\\sqrt{\\sum\\limits_{i=1}^{N}(x_i- x_j)^2}\\\\\n",
        "               \\end{align}$. \n"
      ]
    },
    {
      "cell_type": "code",
      "execution_count": 331,
      "metadata": {
        "scrolled": true,
        "id": "H6IAlPUJ2ljI"
      },
      "outputs": [],
      "source": [
        "from scipy.spatial import distance_matrix\n",
        "## Your code here.\n",
        "def pairwise_dists(A):\n",
        "    N = A.shape[0]                                     # Number of samples in X_train\n",
        "    D = A.shape[1]                                 # Number of features in X_train\n",
        "    dist =  np.zeros((N,N))                       # Initialize distance matrix using np.zeros\n",
        "    for i in range(N):             # i is row index in matrix\n",
        "        for j in range(N):         # j is the column index of matrix\n",
        "            s = 0\n",
        "            for k in range(D):\n",
        "                s += (A[j,k] - A[i,k])** 2\n",
        "            dist[i,j] = s**0.5\n",
        "    return dist\n",
        "## End your code\n",
        "# pairwise_dists(X_test)"
      ]
    },
    {
      "cell_type": "markdown",
      "metadata": {
        "id": "o0cpADl02ljM"
      },
      "source": [
        "Compare the resulting ``dist`` to the matrix calculated with scikit learn function ``euclidian_distances``.\n"
      ]
    },
    {
      "cell_type": "code",
      "execution_count": 332,
      "metadata": {
        "scrolled": true,
        "id": "1ec2nGa82ljP"
      },
      "outputs": [],
      "source": [
        "dist=euclidean_distances(X,X)\n",
        "# dist-pairwise_dists(X)"
      ]
    },
    {
      "cell_type": "markdown",
      "metadata": {
        "id": "MfPiEBkt2ljR"
      },
      "source": [
        "**4. Define the RBF-kernel matrix ``K_rbf``with free parameter ``gamma``.**\n",
        "\n",
        "See page 13 of lecture notes on part 2. \n",
        "\n",
        "Use the function defined in 3."
      ]
    },
    {
      "cell_type": "code",
      "execution_count": 333,
      "metadata": {
        "scrolled": true,
        "id": "RNEKqaoT2ljT"
      },
      "outputs": [],
      "source": [
        "gamma=0.1\n",
        "\n",
        "#Your code here\n",
        "X_norm = np.sum(X ** 2, axis = -1)\n",
        "K_rbf = np.exp(-gamma * (X_norm[:,None] + X_norm[None,:] - 2 * np.dot(X, X.T)))\n",
        "\n",
        "# End your code"
      ]
    },
    {
      "cell_type": "markdown",
      "metadata": {
        "id": "X2GTUba72ljU"
      },
      "source": [
        " **5. Define matrix $H$ and add ``epsilon`` to the diagonal.** \n",
        " \n",
        "Same prodecure as in task 5 of last week's assignment, only with the linear kernel replaced by the RBF kernel"
      ]
    },
    {
      "cell_type": "code",
      "execution_count": 334,
      "metadata": {
        "scrolled": true,
        "id": "YPT9702B2ljV"
      },
      "outputs": [],
      "source": [
        "y = y.reshape(-1,1) * 1. \n",
        "epsilon= 1e-5\n",
        "\n",
        "## Your code here.\n",
        "\n",
        "H =  y.T*K_rbf*y\n",
        "H = H + np.identity(40)*epsilon\n",
        "\n",
        "## End your code."
      ]
    },
    {
      "cell_type": "markdown",
      "metadata": {
        "id": "KOMSsgqP2ljW"
      },
      "source": [
        "**6. Complete the definition of the convex optimization problem in CVXPY.**\n",
        "\n",
        "Recycle the code from last weeks SVM assignment to define dual objective and constraints.\n",
        "\n",
        "In the soft margin case you will need to implement the box constraint $0\\leq\\lambda_i\\leq C$."
      ]
    },
    {
      "cell_type": "code",
      "execution_count": 335,
      "metadata": {
        "scrolled": true,
        "colab": {
          "base_uri": "https://localhost:8080/"
        },
        "id": "TVAuOy2u2ljX",
        "outputId": "5145a8a3-8503-4459-958f-b55245ec06c8"
      },
      "outputs": [
        {
          "output_type": "stream",
          "name": "stdout",
          "text": [
            "problem is DCP: True\n"
          ]
        }
      ],
      "source": [
        "N = y.shape[0]\n",
        "e = np.ones(N)\n",
        "G = np.eye(N)\n",
        "x = cp.Variable(N)*1.\n",
        "\n",
        "C=1e5\n",
        "\n",
        "# Your code here\n",
        "dual_f = (1/2)*cp.quad_form(x,H) - (1/2)*e.T@x \n",
        "objective_non_lin = cp.Minimize(dual_f)\n",
        "constraint_non_lin= [(y.T@x==0),(G@x>=0),(G@x<=C)]\n",
        "\n",
        "# End your code\n",
        "\n",
        "dual_problem_non_lin=cp.Problem(objective_non_lin, constraint_non_lin)\n",
        "print(\"problem is DCP:\", dual_problem_non_lin.is_dcp()) # false"
      ]
    },
    {
      "cell_type": "markdown",
      "metadata": {
        "id": "Wp7fnOTR2ljY"
      },
      "source": [
        "#### Solution of the SVM optimization problem."
      ]
    },
    {
      "cell_type": "code",
      "execution_count": 336,
      "metadata": {
        "scrolled": true,
        "colab": {
          "base_uri": "https://localhost:8080/"
        },
        "id": "7ThdvzQZ2ljY",
        "outputId": "b817f37b-d23d-4fe4-c78a-a9c8be9b82fb"
      },
      "outputs": [
        {
          "output_type": "stream",
          "name": "stdout",
          "text": [
            "The optimal value is -4326.512789220808\n"
          ]
        }
      ],
      "source": [
        "dual_problem_non_lin.solve(solver=cp.OSQP)\n",
        "print('The optimal value is', dual_problem_non_lin.value)"
      ]
    },
    {
      "cell_type": "raw",
      "metadata": {
        "id": "A3PaXGv_2ljZ"
      },
      "source": [
        "The optimal value is -105490.24603819777"
      ]
    },
    {
      "cell_type": "markdown",
      "metadata": {
        "id": "5Yanuely2ljZ"
      },
      "source": [
        "**6. Complete the computation of the bias $b$.**"
      ]
    },
    {
      "cell_type": "code",
      "execution_count": 337,
      "metadata": {
        "scrolled": true,
        "id": "_PGs-zFs2lja"
      },
      "outputs": [],
      "source": [
        "lambd=x.value\n",
        "SV = (lambd > 1e-4).flatten()\n",
        "support_vectors=X[SV]\n",
        "\n",
        "y_lambda=y[SV].T*lambd[SV]\n",
        "\n",
        "## Your code here. \n",
        "\n",
        "dist_supp = pairwise_dists(support_vectors)\n",
        "K =X[SV]@X[SV].T\n",
        "\n",
        "## End your code\n",
        "K_dash=np.dot(y_lambda, K)\n",
        "inner=y[SV]-K_dash.T\n",
        "\n",
        "b=1/support_vectors.shape[0]*sum(inner)"
      ]
    },
    {
      "cell_type": "markdown",
      "metadata": {
        "id": "1ZvIG5Ug2ljb"
      },
      "source": [
        "Display 𝑏 and the number of Support Vectors."
      ]
    },
    {
      "cell_type": "code",
      "execution_count": 338,
      "metadata": {
        "scrolled": true,
        "colab": {
          "base_uri": "https://localhost:8080/"
        },
        "id": "_rFIqllN2ljc",
        "outputId": "c71bb669-c323-4df5-b183-e755949232dc"
      },
      "outputs": [
        {
          "output_type": "stream",
          "name": "stdout",
          "text": [
            "The bias of the hyperplane b =  [1.37802938]\n",
            "The Number of Support Vectors is 6 \n",
            "Number of Support Vectors in each class\n",
            "[3 3]\n"
          ]
        }
      ],
      "source": [
        "print('The bias of the hyperplane b = ',b)\n",
        "print('The Number of Support Vectors is',support_vectors.shape[0],'')\n",
        "print('Number of Support Vectors in each class')\n",
        "print (np.array([sum((y_lambda > 1e-4).flatten()),sum((y_lambda < 1e-4).flatten())]))"
      ]
    },
    {
      "cell_type": "raw",
      "metadata": {
        "id": "IoeLT8iY2ljd"
      },
      "source": [
        "The bias of the hyperplane b =  [12.17814179]\n",
        "The Number of Support Vectors is 10 \n",
        "Number of Support Vectors in each class\n",
        "[5 5]"
      ]
    },
    {
      "cell_type": "markdown",
      "metadata": {
        "id": "F3OnOxu42ljd"
      },
      "source": [
        "**7. Define the ``svm_decision_function`` for unseen arrays ``u``**\n",
        "\n",
        "See page 16 of SVM lecture part 2 and task 11. of last week's svm assignment.\n",
        "\n",
        "**Vectorize**\n",
        "\\begin{align}\n",
        "h(u):=\\sum\\limits_{\\tau\\in SV}\\lambda_{\\tau} y_{\\tau} K_{RBF}(x_{\\tau}, u) +b\n",
        "\\end{align}\n",
        "\n",
        "Here use the scikit learn's ``euclidean_distances``."
      ]
    },
    {
      "cell_type": "code",
      "execution_count": 339,
      "metadata": {
        "scrolled": true,
        "id": "O5SnZqBC2lje"
      },
      "outputs": [],
      "source": [
        "# Your code here\n",
        "def svm_decision_function(u):\n",
        "    K_rbf = np.exp(-gamma * (euclidean_distances(X[SV],u)**2))\n",
        "    #pairwise_dists = (pdist(X, 'euclidean'))\n",
        "    #K = np.exp(-pairwise_dists ** 2 / s ** 2)\n",
        "    #K = np.zeros((X[SV].shape[0],u.shape[0]))\n",
        "    #for i,x in enumerate(X[SV]):\n",
        "       # for j,y in enumerate(u):\n",
        "           # K[i,j] = np.exp(-1*np.linalg.norm(u-X[SV])**2)\n",
        "    return np.dot(y_lambda, K_rbf)+b\n",
        "\n",
        "# End your code"
      ]
    },
    {
      "cell_type": "markdown",
      "metadata": {
        "id": "6Hs7ojPd2lje"
      },
      "source": [
        "**Run the next cell to see a viualization of your results.**"
      ]
    },
    {
      "cell_type": "code",
      "execution_count": 340,
      "metadata": {
        "scrolled": true,
        "colab": {
          "base_uri": "https://localhost:8080/",
          "height": 298
        },
        "id": "yAdfd6du2ljf",
        "outputId": "1aa43980-0b3d-4074-b417-c4740374ffa1"
      },
      "outputs": [
        {
          "output_type": "display_data",
          "data": {
            "image/png": "[encoded data removed]",
            "text/plain": [
              "<Figure size 432x288 with 1 Axes>"
            ]
          },
          "metadata": {
            "needs_background": "light"
          }
        }
      ],
      "source": [
        "xx = np.linspace(-4,4,30) \n",
        "yy = np.linspace(-4, 4,30) \n",
        "y_1,x_1 = np.meshgrid(yy, xx) \n",
        "xy = np.vstack([x_1.ravel(), y_1.ravel()]).T\n",
        "\n",
        "y=y.ravel()\n",
        "\n",
        "h=svm_decision_function(xy).reshape(x_1.shape)\n",
        "fig, ax = plt.subplots()\n",
        "\n",
        "# plot decision boundary and margins\n",
        "CS = ax.contour(x_1, y_1, h, colors='k',levels=[-1,0, 1],linestyles=['--', '-', '--'],alpha=0.5)\n",
        "\n",
        "plt.scatter(X[y == 1, 0], X[y == 1, 1],s=50, marker = 'o', color = 'r', label = 'Positive')\n",
        "plt.scatter(X[y == -1, 0],X[y == -1, 1],s=50, marker = 'o', color = 'b', label = 'Negative')\n",
        "plt.scatter(support_vectors[:, 0],support_vectors[:, 1], s=200, linewidth=1, facecolors='none', edgecolors='black',label = 'support vectors')\n",
        "\n",
        "plt.title('SVM decision boundary with RBF kernel \\n' r'$\\gamma=0.1, C=1e5$')\n",
        "plt.legend(loc = 'lower right')\n",
        "plt.show()"
      ]
    },
    {
      "cell_type": "markdown",
      "metadata": {
        "id": "6ngT1f2X2ljf"
      },
      "source": [
        "**8. Define the function ``svm_predictions`` for test data ``U``**\n",
        "\n",
        "The function classifies unseen data by assigning the sign to each entry of the ``svm_decision_function``. \n",
        "\n",
        "Use the numpy function ``sign``.\n",
        "\n",
        "Then store the predictions for unseen samples in the ``X_test`` in a variable called ``y_pred``."
      ]
    },
    {
      "cell_type": "code",
      "execution_count": 341,
      "metadata": {
        "scrolled": true,
        "colab": {
          "base_uri": "https://localhost:8080/"
        },
        "id": "WRUzQVpu2ljg",
        "outputId": "0884ee40-33e1-4cfc-e05c-e8fa016e5c2c"
      },
      "outputs": [
        {
          "output_type": "stream",
          "name": "stdout",
          "text": [
            "Predicted values are [[ 1 -1  1 -1  1 -1 -1 -1 -1  1  1 -1  1 -1  1 -1  1  1 -1 -1]]\n"
          ]
        }
      ],
      "source": [
        "## Your code here.\n",
        "\n",
        "def svc_predictions(U):\n",
        "    return np.sign(svm_decision_function(U))\n",
        "\n",
        "y_pred=svc_predictions(X_test)\n",
        "# print(y_pred.shape)\n",
        "## End your code.\n",
        "\n",
        "print('Predicted values are',y_pred.astype(int))"
      ]
    },
    {
      "cell_type": "raw",
      "metadata": {
        "id": "-euq8XtN2ljg"
      },
      "source": [
        "Predicted values are [[-1 -1  1  1 -1 -1  1 -1  1  1 -1  1  1  1 -1 -1  1  1  1  1]]"
      ]
    },
    {
      "cell_type": "markdown",
      "metadata": {
        "id": "2dL9aAXx2ljh"
      },
      "source": [
        "The results can be displayed with a simple confusion matrikx using ``pandas.crosstab``.\n",
        "\n",
        "**9. Flatten the arrays ``y_test`` and ``y_pred``.**\n"
      ]
    },
    {
      "cell_type": "code",
      "execution_count": 342,
      "metadata": {
        "scrolled": false,
        "colab": {
          "base_uri": "https://localhost:8080/",
          "height": 174
        },
        "id": "rDfu1eVe2ljh",
        "outputId": "0565fbca-34cc-4557-f073-71566435d201"
      },
      "outputs": [
        {
          "output_type": "execute_result",
          "data": {
            "text/html": [
              "\n",
              "  <div id=\"df-325b0e2f-cbff-48d1-b68d-10d9edc98fb6\">\n",
              "    <div class=\"colab-df-container\">\n",
              "      <div>\n",
              "<style scoped>\n",
              "    .dataframe tbody tr th:only-of-type {\n",
              "        vertical-align: middle;\n",
              "    }\n",
              "\n",
              "    .dataframe tbody tr th {\n",
              "        vertical-align: top;\n",
              "    }\n",
              "\n",
              "    .dataframe thead th {\n",
              "        text-align: right;\n",
              "    }\n",
              "</style>\n",
              "<table border=\"1\" class=\"dataframe\">\n",
              "  <thead>\n",
              "    <tr style=\"text-align: right;\">\n",
              "      <th>Predicted</th>\n",
              "      <th>-1.0</th>\n",
              "      <th>1.0</th>\n",
              "      <th>All</th>\n",
              "    </tr>\n",
              "    <tr>\n",
              "      <th>Observed</th>\n",
              "      <th></th>\n",
              "      <th></th>\n",
              "      <th></th>\n",
              "    </tr>\n",
              "  </thead>\n",
              "  <tbody>\n",
              "    <tr>\n",
              "      <th>-1</th>\n",
              "      <td>9</td>\n",
              "      <td>0</td>\n",
              "      <td>9</td>\n",
              "    </tr>\n",
              "    <tr>\n",
              "      <th>1</th>\n",
              "      <td>2</td>\n",
              "      <td>9</td>\n",
              "      <td>11</td>\n",
              "    </tr>\n",
              "    <tr>\n",
              "      <th>All</th>\n",
              "      <td>11</td>\n",
              "      <td>9</td>\n",
              "      <td>20</td>\n",
              "    </tr>\n",
              "  </tbody>\n",
              "</table>\n",
              "</div>\n",
              "      <button class=\"colab-df-convert\" onclick=\"convertToInteractive('df-325b0e2f-cbff-48d1-b68d-10d9edc98fb6')\"\n",
              "              title=\"Convert this dataframe to an interactive table.\"\n",
              "              style=\"display:none;\">\n",
              "        \n",
              "  <svg xmlns=\"http://www.w3.org/2000/svg\" height=\"24px\"viewBox=\"0 0 24 24\"\n",
              "       width=\"24px\">\n",
              "    <path d=\"M0 0h24v24H0V0z\" fill=\"none\"/>\n",
              "    <path d=\"M18.56 5.44l.94 2.06.94-2.06 2.06-.94-2.06-.94-.94-2.06-.94 2.06-2.06.94zm-11 1L8.5 8.5l.94-2.06 2.06-.94-2.06-.94L8.5 2.5l-.94 2.06-2.06.94zm10 10l.94 2.06.94-2.06 2.06-.94-2.06-.94-.94-2.06-.94 2.06-2.06.94z\"/><path d=\"M17.41 7.96l-1.37-1.37c-.4-.4-.92-.59-1.43-.59-.52 0-1.04.2-1.43.59L10.3 9.45l-7.72 7.72c-.78.78-.78 2.05 0 2.83L4 21.41c.39.39.9.59 1.41.59.51 0 1.02-.2 1.41-.59l7.78-7.78 2.81-2.81c.8-.78.8-2.07 0-2.86zM5.41 20L4 18.59l7.72-7.72 1.47 1.35L5.41 20z\"/>\n",
              "  </svg>\n",
              "      </button>\n",
              "      \n",
              "  <style>\n",
              "    .colab-df-container {\n",
              "      display:flex;\n",
              "      flex-wrap:wrap;\n",
              "      gap: 12px;\n",
              "    }\n",
              "\n",
              "    .colab-df-convert {\n",
              "      background-color: #E8F0FE;\n",
              "      border: none;\n",
              "      border-radius: 50%;\n",
              "      cursor: pointer;\n",
              "      display: none;\n",
              "      fill: #1967D2;\n",
              "      height: 32px;\n",
              "      padding: 0 0 0 0;\n",
              "      width: 32px;\n",
              "    }\n",
              "\n",
              "    .colab-df-convert:hover {\n",
              "      background-color: #E2EBFA;\n",
              "      box-shadow: 0px 1px 2px rgba(60, 64, 67, 0.3), 0px 1px 3px 1px rgba(60, 64, 67, 0.15);\n",
              "      fill: #174EA6;\n",
              "    }\n",
              "\n",
              "    [theme=dark] .colab-df-convert {\n",
              "      background-color: #3B4455;\n",
              "      fill: #D2E3FC;\n",
              "    }\n",
              "\n",
              "    [theme=dark] .colab-df-convert:hover {\n",
              "      background-color: #434B5C;\n",
              "      box-shadow: 0px 1px 3px 1px rgba(0, 0, 0, 0.15);\n",
              "      filter: drop-shadow(0px 1px 2px rgba(0, 0, 0, 0.3));\n",
              "      fill: #FFFFFF;\n",
              "    }\n",
              "  </style>\n",
              "\n",
              "      <script>\n",
              "        const buttonEl =\n",
              "          document.querySelector('#df-325b0e2f-cbff-48d1-b68d-10d9edc98fb6 button.colab-df-convert');\n",
              "        buttonEl.style.display =\n",
              "          google.colab.kernel.accessAllowed ? 'block' : 'none';\n",
              "\n",
              "        async function convertToInteractive(key) {\n",
              "          const element = document.querySelector('#df-325b0e2f-cbff-48d1-b68d-10d9edc98fb6');\n",
              "          const dataTable =\n",
              "            await google.colab.kernel.invokeFunction('convertToInteractive',\n",
              "                                                     [key], {});\n",
              "          if (!dataTable) return;\n",
              "\n",
              "          const docLinkHtml = 'Like what you see? Visit the ' +\n",
              "            '<a target=\"_blank\" href=https://colab.research.google.com/notebooks/data_table.ipynb>data table notebook</a>'\n",
              "            + ' to learn more about interactive tables.';\n",
              "          element.innerHTML = '';\n",
              "          dataTable['output_type'] = 'display_data';\n",
              "          await google.colab.output.renderOutput(dataTable, element);\n",
              "          const docLink = document.createElement('div');\n",
              "          docLink.innerHTML = docLinkHtml;\n",
              "          element.appendChild(docLink);\n",
              "        }\n",
              "      </script>\n",
              "    </div>\n",
              "  </div>\n",
              "  "
            ],
            "text/plain": [
              "Predicted  -1.0  1.0  All\n",
              "Observed                 \n",
              "-1            9    0    9\n",
              "1             2    9   11\n",
              "All          11    9   20"
            ]
          },
          "metadata": {},
          "execution_count": 342
        }
      ],
      "source": [
        "## Your code here\n",
        "\n",
        "y_test=y_test.flatten()\n",
        "y_pred= y_pred.flatten()\n",
        "\n",
        "## End your code.\n",
        "\n",
        "\n",
        "pd.crosstab(y_test, y_pred, rownames=['Observed'], colnames=['Predicted'], margins=True)"
      ]
    },
    {
      "cell_type": "markdown",
      "metadata": {
        "id": "xLPG2oKJ2ljh"
      },
      "source": [
        "**10. Calculate prediction accuracy on test set with scikit learn's accuracy score.**"
      ]
    },
    {
      "cell_type": "code",
      "execution_count": 343,
      "metadata": {
        "scrolled": true,
        "colab": {
          "base_uri": "https://localhost:8080/"
        },
        "id": "TJj14FYp2lji",
        "outputId": "69ba3cc9-f668-4147-c95d-a61982371599"
      },
      "outputs": [
        {
          "output_type": "stream",
          "name": "stdout",
          "text": [
            "Prediction accuracy on test set ist 0.9\n"
          ]
        }
      ],
      "source": [
        "from sklearn.metrics import accuracy_score\n",
        "\n",
        "## Your code here. \n",
        "\n",
        "test_acc=accuracy_score(y_test, y_pred)\n",
        "\n",
        "## End your code.\n",
        "\n",
        "print('Prediction accuracy on test set ist',test_acc)"
      ]
    },
    {
      "cell_type": "raw",
      "metadata": {
        "id": "IFMBISAD2lji"
      },
      "source": [
        "Prediction accuracy on test set ist 0.7"
      ]
    },
    {
      "cell_type": "markdown",
      "metadata": {
        "id": "g8h0y99P2ljj"
      },
      "source": [
        "### Enhancing the model\n",
        "\n",
        "In terms of prediction accuracy, we cannot really be satisfied with the generalization result. Troubleshooting leaves us to decide wether we made a poor first choice on the cost parameter,the parameters of the chosen kernel or the chosen kernel itself. \n",
        "\n",
        "We can try to enhance our result by tuning \n",
        "\n",
        "1. The regularisation parameter ``C``\n",
        "2. The model selection, here ``'rbf'`` vs. ``'poly'``\n",
        "2. The kernel parameters ``gamma`` and ``degree`` \n",
        "\n",
        "The parameter grid to be searched is user defined. \n",
        "\n"
      ]
    },
    {
      "cell_type": "code",
      "execution_count": 344,
      "metadata": {
        "scrolled": true,
        "id": "TSvDWjeL2ljj"
      },
      "outputs": [],
      "source": [
        "parameter_grid = {'C': [0.1, 1e1,1e2,1e3], \n",
        "              'gamma': [1,0.1,0.01],\n",
        "              'degree':[2,3],\n",
        "              'kernel': ['rbf', 'poly']}"
      ]
    },
    {
      "cell_type": "markdown",
      "metadata": {
        "id": "dFBDb-gi2ljk"
      },
      "source": [
        "Here we use grid search with a 6 fold cross validation to find the best parameters in the grid as defined above."
      ]
    },
    {
      "cell_type": "code",
      "execution_count": 345,
      "metadata": {
        "scrolled": true,
        "colab": {
          "base_uri": "https://localhost:8080/"
        },
        "id": "zkbrVl-U2ljk",
        "outputId": "ca9606ac-5dcc-4273-cb48-60a2d85ec4df"
      },
      "outputs": [
        {
          "output_type": "stream",
          "name": "stdout",
          "text": [
            "Fitting 6 folds for each of 48 candidates, totalling 288 fits\n"
          ]
        },
        {
          "output_type": "execute_result",
          "data": {
            "text/plain": [
              "GridSearchCV(cv=6, estimator=SVC(),\n",
              "             param_grid={'C': [0.1, 10.0, 100.0, 1000.0], 'degree': [2, 3],\n",
              "                         'gamma': [1, 0.1, 0.01], 'kernel': ['rbf', 'poly']},\n",
              "             verbose=1)"
            ]
          },
          "metadata": {},
          "execution_count": 345
        }
      ],
      "source": [
        "from sklearn.svm import SVC\n",
        "from sklearn.model_selection import GridSearchCV\n",
        "\n",
        "grid = GridSearchCV(SVC(),parameter_grid,cv=6,refit=True,verbose=1)\n",
        "grid.fit(X,y)"
      ]
    },
    {
      "cell_type": "code",
      "execution_count": 346,
      "metadata": {
        "scrolled": true,
        "colab": {
          "base_uri": "https://localhost:8080/"
        },
        "id": "LaHOQc3H2ljm",
        "outputId": "bfb16625-3f54-4bc8-8e46-6dfea7648b15"
      },
      "outputs": [
        {
          "output_type": "stream",
          "name": "stdout",
          "text": [
            "Best model found for the data is SVC(C=10.0, degree=2, gamma=1)\n"
          ]
        }
      ],
      "source": [
        "print('Best model found for the data is',grid.best_estimator_)"
      ]
    },
    {
      "cell_type": "markdown",
      "metadata": {
        "id": "MQMtJGPc2ljn"
      },
      "source": [
        "**11. Fit the training data with the best set of parameters found above.**"
      ]
    },
    {
      "cell_type": "code",
      "execution_count": 347,
      "metadata": {
        "scrolled": true,
        "colab": {
          "base_uri": "https://localhost:8080/"
        },
        "id": "mnBpWnFD2ljn",
        "outputId": "62a971c9-a883-4e9b-f92c-c41701c51630"
      },
      "outputs": [
        {
          "output_type": "execute_result",
          "data": {
            "text/plain": [
              "SVC(C=10, degree=2, gamma=1)"
            ]
          },
          "metadata": {},
          "execution_count": 347
        }
      ],
      "source": [
        "## Your code here.\n",
        "X_train, X_test,y_train, y_test = train_test_split(X,y,test_size=20,random_state = 0)\n",
        "model = SVC(C=10,kernel='rbf',gamma=1,degree=2)\n",
        "\n",
        "  ## fit the model here\n",
        "model.fit(X,y)\n",
        "## End your code"
      ]
    },
    {
      "cell_type": "markdown",
      "metadata": {
        "id": "PYB2P-8f2ljn"
      },
      "source": [
        "**12. Calculate training accuracy**"
      ]
    },
    {
      "cell_type": "code",
      "execution_count": 348,
      "metadata": {
        "scrolled": true,
        "colab": {
          "base_uri": "https://localhost:8080/"
        },
        "id": "gsFWWpC22ljo",
        "outputId": "6fc106cf-61b1-4284-ce71-90807b4de823"
      },
      "outputs": [
        {
          "output_type": "stream",
          "name": "stdout",
          "text": [
            "Training accuracy with best parameter set is  0.85\n"
          ]
        }
      ],
      "source": [
        "## Your code here.\n",
        "y_pred_train = svc_predictions(X_train)\n",
        "y_pred_train = y_pred_train.reshape((-1,1))\n",
        "# print(y_pred_train.shape)\n",
        "# print(y_train.shape)\n",
        "train_accuracy= accuracy_score(y_train, y_pred_train)\n",
        "\n",
        "## End your code\n",
        "\n",
        "print('Training accuracy with best parameter set is ', train_accuracy)"
      ]
    },
    {
      "cell_type": "raw",
      "metadata": {
        "id": "IG4H2T1G2ljo"
      },
      "source": [
        "Training accuracy with best parameter set is  0.925"
      ]
    },
    {
      "cell_type": "markdown",
      "metadata": {
        "id": "i_VOJJBV2ljp"
      },
      "source": [
        "**13. Calculate test accuracy**"
      ]
    },
    {
      "cell_type": "code",
      "execution_count": 349,
      "metadata": {
        "scrolled": true,
        "colab": {
          "base_uri": "https://localhost:8080/"
        },
        "id": "qgtWd0KV2ljp",
        "outputId": "d91b54c9-42f5-4375-ca38-8f5b0569d8b1"
      },
      "outputs": [
        {
          "output_type": "stream",
          "name": "stdout",
          "text": [
            "Testing accuracy with best parameter set is  0.95\n"
          ]
        }
      ],
      "source": [
        "## Your code here\n",
        "\n",
        "y_pred_test = svc_predictions(X_test)\n",
        "y_pred_test = y_pred_test.reshape((-1,1))\n",
        "test_accuracy= accuracy_score(y_test, y_pred_test)\n",
        "\n",
        "## End your code\n",
        "\n",
        "print('Testing accuracy with best parameter set is ', test_accuracy)"
      ]
    },
    {
      "cell_type": "raw",
      "metadata": {
        "id": "ca8M4vdr2ljq"
      },
      "source": [
        "Testing accuracy with best parameter set is  0.85"
      ]
    },
    {
      "cell_type": "markdown",
      "metadata": {
        "id": "D8yll-pQ2ljq"
      },
      "source": [
        "**14. Interpret the results.**"
      ]
    },
    {
      "cell_type": "raw",
      "metadata": {
        "id": "O-SKC8Yn2ljr"
      },
      "source": [
        "With the best parameter set, we have the following results -\n",
        "\n",
        "1. Training accuracy = 85 %\n",
        "2. Testing accuracy = 95%"
      ]
    },
    {
      "cell_type": "code",
      "source": [
        ""
      ],
      "metadata": {
        "id": "ZEqS1ccLd6ck"
      },
      "execution_count": null,
      "outputs": []
    }
  ],
  "metadata": {
    "hide_input": false,
    "kernelspec": {
      "display_name": "Python 3",
      "language": "python",
      "name": "python3"
    },
    "language_info": {
      "codemirror_mode": {
        "name": "ipython",
        "version": 3
      },
      "file_extension": ".py",
      "mimetype": "text/x-python",
      "name": "python",
      "nbconvert_exporter": "python",
      "pygments_lexer": "ipython3",
      "version": "3.8.3"
    },
    "colab": {
      "name": "assignment_svm_02.ipynb",
      "provenance": []
    }
  },
  "nbformat": 4,
  "nbformat_minor": 0
}