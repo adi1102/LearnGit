{
  "cells": [
    {
      "cell_type": "markdown",
      "metadata": {
        "id": "view-in-github",
        "colab_type": "text"
      },
      "source": [
        "<a href=\"https://colab.research.google.com/github/adi1102/LearnGit/blob/master/assignment_svm_01.ipynb\" target=\"_parent\"><img src=\"https://colab.research.google.com/assets/colab-badge.svg\" alt=\"Open In Colab\"/></a>"
      ]
    },
    {
      "cell_type": "markdown",
      "metadata": {
        "hideCode": false,
        "hidePrompt": false,
        "id": "2dvY6Ry81ctP"
      },
      "source": [
        "# Binary Classification with SVM\n",
        "### Linearly separable, Hard Margin"
      ]
    },
    {
      "cell_type": "code",
      "execution_count": 1,
      "metadata": {
        "hideCode": false,
        "hidePrompt": false,
        "scrolled": true,
        "id": "sgEaOu_a1ctV"
      },
      "outputs": [],
      "source": [
        "import numpy as np\n",
        "import matplotlib.pyplot as plt\n",
        "#import cvxpy as cp \n",
        "from sklearn import datasets"
      ]
    },
    {
      "cell_type": "markdown",
      "metadata": {
        "id": "WAUfzqEO1ctW"
      },
      "source": [
        "In this assignment you will implement SVM optimization task and solve it with CVXPY.\n",
        "\n",
        "The decision function will be calculated and tested.\n",
        "\n",
        "# Dataset\n",
        "Import the Iris dataset.\n",
        "\n",
        "The Iris dataset contains 3 classes of different Iris species with 50 samples each. \n",
        "The class Setosa is linearly separable from the other two classes Versicolor and Virginica. \n",
        "Each sample has four features sepal length, sepal width, petal length and petal width. \n",
        "\n",
        "\n",
        "#### 1. Select only the first two features sepal length and sepal width.\n",
        "#### 2. Select the first 100 rows corresponding to the classes Setosa and Versicolor\n",
        "#### 3. Change the values stored in iris.target to $-1$ and $1$."
      ]
    },
    {
      "cell_type": "code",
      "execution_count": 2,
      "metadata": {
        "id": "l39qQybF1ctX"
      },
      "outputs": [],
      "source": [
        "iris = datasets.load_iris()\n",
        "\n",
        "## Your code here\n",
        "# Select the first two features and store them in the variable X. Store the target values in the variable y. \n",
        "X = iris.data[:, :2]  # we only take the first two features.\n",
        "y = iris.target\n",
        "\n",
        "# Select the first 100 rows of X and y. \n",
        "X = X[:100]\n",
        "y =  y[:100]\n",
        "\n",
        "# Change the target values stored in y to -1 and 1.\n",
        "y = [-1 if x == 0 else 1 for x in y]"
      ]
    },
    {
      "cell_type": "markdown",
      "metadata": {
        "id": "XXd4_VtS1ctY"
      },
      "source": [
        "####  4. Convert y to column vector\n",
        "To that point y is a numpy $1D$ -array of length $100$. \n",
        "\n",
        "We need a transposed version of it, namely a column vector with $100$ entries. In this case transposing $y$ using np.transpose will not change $y$. \n",
        "\n",
        "Therefore convert y into a numpy array of shape $(100,1)$ using e.g. ``reshape``."
      ]
    },
    {
      "cell_type": "code",
      "execution_count": 3,
      "metadata": {
        "id": "C4_C-ggM1ctZ"
      },
      "outputs": [],
      "source": [
        "## Your code here\n",
        "y= np.reshape(y, (100,1))"
      ]
    },
    {
      "cell_type": "markdown",
      "metadata": {
        "id": "3nrA8kXg1ctZ"
      },
      "source": [
        "### Implementation of the convex optimization task\n",
        "See pages 51-52 of the lecture notes on vectorizing the SVM objective.\n",
        "\n",
        "The matrix $K_{lin}$ is the matrix whose elements are the dot products of our features. It is calculated as the matrix product $XX^T$ using  ``np.dot``. \n",
        "\n",
        "There can arise problems concerning the DCP rules.\n",
        "This can happen if the matrix $H$ is not of full rank and so some of the eigenvalues are going to be zero. In floating point arithmetic it is possible that due to rounding errors those eigenvalues will be calculated to be slightly smaller than zero, which will then cause the cvxpy solver to raise an error because of DCP rule vioalation. \n",
        "\n",
        "One aproach to handle this it to perturb the diagonal a bit by adding a small tolerance to each diagonal element. \n",
        "#### 5. Calculate the matrix $K_{lin}$ and add a tolerance value of ``epsilon = 1e-7`` to each diagonal element."
      ]
    },
    {
      "cell_type": "code",
      "execution_count": 37,
      "metadata": {
        "hideCode": false,
        "hidePrompt": false,
        "id": "U4ghZ9Bg1cta",
        "outputId": "18414569-e442-4eea-fdeb-ff6a02845949",
        "colab": {
          "base_uri": "https://localhost:8080/"
        }
      },
      "outputs": [
        {
          "output_type": "stream",
          "name": "stdout",
          "text": [
            "[[38.2600001 35.49      35.17      ... 41.77      34.76      38.87     ]\n",
            " [35.49      35.4900001 32.63      ... 39.08      32.49      36.33     ]\n",
            " [35.17      32.63      35.1700001 ... 38.42      31.97      35.75     ]\n",
            " ...\n",
            " [41.77      39.08      38.42      ... 41.7700001 38.87      43.46     ]\n",
            " [34.76      32.49      31.97      ... 38.87      34.7600001 36.07     ]\n",
            " [38.87      36.33      35.75      ... 43.46      36.07      38.8700001]]\n",
            "(100, 100)\n"
          ]
        }
      ],
      "source": [
        "## Your code here.\n",
        "## Calculate K_lin.\n",
        "epsilon=1e-7\n",
        "K_lin = np.dot(X,X.T)\n",
        "\n",
        "##Add tolerance epsilon to each diagonal element for a better numerical stability\n",
        "np.fill_diagonal(K_lin, K_lin+epsilon)\n",
        "print(K_lin)\n",
        "print(K_lin.shape)"
      ]
    },
    {
      "cell_type": "markdown",
      "metadata": {
        "id": "emd00Ymd1ctb"
      },
      "source": [
        "Definition of matrix $H$. Each element of ``K_lin`` is multiplied with with the elements in ``y`` and then with elements in ``y.T``using ``*``.  "
      ]
    },
    {
      "cell_type": "code",
      "source": [
        "\n",
        "print(K_lin)\n",
        "print(K_lin.shape)"
      ],
      "metadata": {
        "id": "ozLUaCoe-OyJ",
        "outputId": "719795f8-abb0-4097-bda2-3fb3b839d4cd",
        "colab": {
          "base_uri": "https://localhost:8080/"
        }
      },
      "execution_count": 36,
      "outputs": [
        {
          "output_type": "stream",
          "name": "stdout",
          "text": [
            "[[38.2600001 35.49      35.17      ... 41.77      34.76      38.87     ]\n",
            " [35.49      35.4900001 32.63      ... 39.08      32.49      36.33     ]\n",
            " [35.17      32.63      35.1700001 ... 38.42      31.97      35.75     ]\n",
            " ...\n",
            " [41.77      39.08      38.42      ... 41.7700001 38.87      43.46     ]\n",
            " [34.76      32.49      31.97      ... 38.87      34.7600001 36.07     ]\n",
            " [38.87      36.33      35.75      ... 43.46      36.07      38.8700001]]\n",
            "(100, 100)\n"
          ]
        }
      ]
    },
    {
      "cell_type": "code",
      "execution_count": 11,
      "metadata": {
        "id": "EfxhlD1w1ctc",
        "outputId": "06cac99d-153c-4551-c6d9-6909bf16a6a6",
        "colab": {
          "base_uri": "https://localhost:8080/"
        }
      },
      "outputs": [
        {
          "output_type": "execute_result",
          "data": {
            "text/plain": [
              "array([[ 38.26,  35.49,  35.17, ..., -41.77, -34.76, -38.87],\n",
              "       [ 35.49,  33.01,  32.63, ..., -39.08, -32.49, -36.33],\n",
              "       [ 35.17,  32.63,  32.33, ..., -38.42, -31.97, -35.75],\n",
              "       ...,\n",
              "       [-41.77, -39.08, -38.42, ...,  46.85,  38.87,  43.46],\n",
              "       [-34.76, -32.49, -31.97, ...,  38.87,  32.26,  36.07],\n",
              "       [-38.87, -36.33, -35.75, ...,  43.46,  36.07,  40.33]])"
            ]
          },
          "metadata": {},
          "execution_count": 11
        }
      ],
      "source": [
        "H = y.T*K_lin*y\n",
        "H"
      ]
    },
    {
      "cell_type": "markdown",
      "metadata": {
        "id": "-M7wBxbl1ctd"
      },
      "source": [
        "#### 6. Define variable $N$ for sample set size, vector of ones called $e$ of length $N$ and identity matrix $G$ with dimension $N$.\n",
        "\n"
      ]
    },
    {
      "cell_type": "code",
      "execution_count": null,
      "metadata": {
        "hideCode": false,
        "hidePrompt": false,
        "scrolled": true,
        "id": "OoC8Cu2P1cte"
      },
      "outputs": [],
      "source": [
        "N = \n",
        "e = \n",
        "G = "
      ]
    },
    {
      "cell_type": "markdown",
      "metadata": {
        "id": "YJhRTKAB1cte"
      },
      "source": [
        "## Definition and solvution the convex optimization problem in CVXPY\n",
        "### Dual objective\n",
        "See page 53 of the lecture notes. \n",
        "\n",
        "The optimization variable is the parameter vector containing the unknown $\\lambda_i$. ``lambda`` is a function in python, therefore here it is called ``x`` first and changed after optimization to a variable called 'lambd'.\n",
        "The dual objective as of page 53 will be minimzed with python module CVXPY. \n",
        "\n",
        "\n",
        "#### 7. Complete the defintion of the dual objective function ``dual_f``.  \n",
        "Hint: For matrix-matrix and matrix-vector multiplication use``@`` ."
      ]
    },
    {
      "cell_type": "code",
      "execution_count": null,
      "metadata": {
        "id": "v1ptPD5c1cte"
      },
      "outputs": [],
      "source": [
        "x = cp.Variable(N)*1.\n",
        "\n",
        "# Your code here.\n",
        "\n",
        "dual_f=(1/2)*cp.quad_form(x,H) #complete the line\n",
        "\n",
        "# End your code.\n",
        "\n",
        "dual_objective = cp.Minimize(dual_f)"
      ]
    },
    {
      "cell_type": "markdown",
      "metadata": {
        "id": "qKiiToR31ctf"
      },
      "source": [
        "###  Dual constraints\n",
        "The constraints for a CVXPY optimization task are stored in a list.\n",
        "#### 8. Create a list called ``dual_constraints`` which contains the two constraints of the SVM dual optimization problem.\n",
        "See page 53 of the lecture notes. Hint:  For matrix-matrix and matrix-vector multiplication use ``@`` "
      ]
    },
    {
      "cell_type": "code",
      "execution_count": null,
      "metadata": {
        "id": "vA44zOPE1ctf"
      },
      "outputs": [],
      "source": [
        "# Your code here.\n",
        "\n",
        "dual_constraints= \n",
        "\n",
        "# End your code.\n",
        "### Definition of the dual problem.\n",
        "dual_problem=cp.Problem(dual_objective, dual_constraints)"
      ]
    },
    {
      "cell_type": "markdown",
      "metadata": {
        "id": "2e_WJRaC1ctf"
      },
      "source": [
        "Check if the problem fulfils the DCP rules. "
      ]
    },
    {
      "cell_type": "code",
      "execution_count": null,
      "metadata": {
        "id": "7BiuZwA01ctg",
        "outputId": "33055132-5522-4211-b234-dc3506be4780"
      },
      "outputs": [
        {
          "name": "stdout",
          "output_type": "stream",
          "text": [
            "problem is DCP: True\n"
          ]
        }
      ],
      "source": [
        "print(\"problem is DCP:\", dual_problem.is_dcp()) # false"
      ]
    },
    {
      "cell_type": "markdown",
      "metadata": {
        "id": "UvIKpk3I1ctg"
      },
      "source": [
        "Run the solver. If you want to get more detail on solver and parameters set $verbose=TRUE$."
      ]
    },
    {
      "cell_type": "code",
      "execution_count": null,
      "metadata": {
        "id": "Ce1GJlSa1ctg"
      },
      "outputs": [],
      "source": [
        "#Run solver\n",
        "dual_problem.solve(verbose=False)\n",
        "print('The optimal value is', dual_problem.value)"
      ]
    },
    {
      "cell_type": "raw",
      "metadata": {
        "id": "kwMC8BCt1cth"
      },
      "source": [
        "The optimal value is -33.794965185121406"
      ]
    },
    {
      "cell_type": "markdown",
      "metadata": {
        "id": "mLVLrKIj1cth"
      },
      "source": [
        "#### Use solution to calculate Support Vectors and Classifier\n",
        "First varible ``lambd`` is defined containing the otpimal values found as the solution to the above problem.\n",
        "Then those indices corresponding to non-zero parameters are stored in the variable ``SV`` and used to define the set of ``support_vectors``."
      ]
    },
    {
      "cell_type": "code",
      "execution_count": null,
      "metadata": {
        "hideCode": false,
        "hidePrompt": false,
        "scrolled": true,
        "id": "0zQQ4hBX1cth"
      },
      "outputs": [],
      "source": [
        "lambd=x.value\n",
        "SV = (lambd > 1e-4).flatten()\n",
        "support_vectors = X[SV]"
      ]
    },
    {
      "cell_type": "markdown",
      "metadata": {
        "id": "FtHoWE4J1cth"
      },
      "source": [
        "#### Compute $b$. See page 54 of the lecture notes.\n",
        "#### 9. Calculate the matrix ``K``=$X_{SV}X_{SV}^T$ whose elements are dot products between the support vectors. \n",
        "#### 10. Define ``y_lambda`` to be the row vector whose elements are the products of target$y_i$ and Lagrange Multiplier $\\lambda_i$ for each support vector $x_i$ with $i\\in SV$. \n"
      ]
    },
    {
      "cell_type": "code",
      "execution_count": null,
      "metadata": {
        "hideCode": false,
        "hidePrompt": false,
        "scrolled": true,
        "id": "xc6XNHWJ1cti"
      },
      "outputs": [],
      "source": [
        "### Your code her\n",
        "\n",
        "K = \n",
        "y_lambda=\n",
        "\n",
        "### End your code.\n",
        "\n",
        "K_dash=np.dot(y_lambda, K)\n",
        "inner=y[SV]-K_dash.T\n",
        "\n",
        "b=1/support_vectors.shape[0]*sum(inner)"
      ]
    },
    {
      "cell_type": "markdown",
      "metadata": {
        "id": "_uZZJXkN1cti"
      },
      "source": [
        "### Check the intermediate results. "
      ]
    },
    {
      "cell_type": "code",
      "execution_count": null,
      "metadata": {
        "id": "pGY6i5_u1cti"
      },
      "outputs": [],
      "source": [
        "print('The bias of the hyperplane b = ',b)\n",
        "print('The Number of Support Vectors is',support_vectors.shape[0],'')\n",
        "print('Number of Support Vectors in each class')\n",
        "print (np.array([sum((y_lambda > 1e-4).flatten()),sum((y_lambda < 1e-4).flatten())]))"
      ]
    },
    {
      "cell_type": "raw",
      "metadata": {
        "id": "jWaSaije1cti"
      },
      "source": [
        "The bias of the hyperplane b =  [-17.31575879]\n",
        "The Number of Support Vectors is 4 \n",
        "Number of Support Vectors in each class\n",
        "[2 2]"
      ]
    },
    {
      "cell_type": "markdown",
      "metadata": {
        "id": "6trd7ILP1cti"
      },
      "source": [
        "#### 11. Define the ``svm_decision_function`` as a function in the variable ``u``\n",
        "by vectorizing its definition on page 48 of the lecture notes:\n",
        "\\begin{align}\n",
        "h(u):=\\sum\\limits_{i\\in SV}\\lambda_i y_i \\langle x_i, u\\rangle +b\n",
        "\\end{align}\n",
        "You can use the vector ``y_lambda`` defined for the product $\\lambda_i y_i$."
      ]
    },
    {
      "cell_type": "code",
      "execution_count": null,
      "metadata": {
        "id": "J2dd7yLt1ctj"
      },
      "outputs": [],
      "source": [
        "## Your code here.\n",
        "def svm_decision_function(u):\n",
        "    return np.dot(y_lambda, np.dot(X[SV],u.T))+b\n",
        "## End your code."
      ]
    },
    {
      "cell_type": "markdown",
      "metadata": {
        "id": "DBIG1AHy1ctj"
      },
      "source": [
        "Manually test on an unseen sample:"
      ]
    },
    {
      "cell_type": "code",
      "execution_count": null,
      "metadata": {
        "id": "IPjRjwAT1ctj",
        "outputId": "130ac506-7b2e-4c1d-bf08-ff8dd80c6878"
      },
      "outputs": [
        {
          "name": "stdout",
          "output_type": "stream",
          "text": [
            "The estimated class for u is\n",
            "Versicolor\n"
          ]
        }
      ],
      "source": [
        "u=np.array([6,2.5])\n",
        "print('The estimated class for u is')\n",
        "print ('Setosa' if svm_decision_function(u)<0 else 'Versicolor')"
      ]
    },
    {
      "cell_type": "raw",
      "metadata": {
        "id": "4bdSBOfQ1ctj"
      },
      "source": [
        "The estimated class for u is\n",
        "Versicolor"
      ]
    },
    {
      "cell_type": "markdown",
      "metadata": {
        "id": "y4uEVRh41ctj"
      },
      "source": [
        "## Visualize the results\n",
        "Run the next cell to see a viualization of your results. "
      ]
    },
    {
      "cell_type": "code",
      "execution_count": null,
      "metadata": {
        "id": "bhJ7oYMe1ctk"
      },
      "outputs": [],
      "source": [
        "# Create grid\n",
        "xx = np.linspace(2, 7,30) \n",
        "yy = np.linspace(2, 4.5,30) \n",
        "y_1,x_1 = np.meshgrid(yy, xx) \n",
        "xy = np.vstack([x_1.ravel(), y_1.ravel()]).T\n",
        "\n",
        "# Decision Function\n",
        "h=(svm_decision_function(xy)).reshape(x_1.shape)\n",
        "\n",
        "fig, ax = plt.subplots()\n",
        "\n",
        "# Plot decision boundary and margins\n",
        "ax.contour(x_1, y_1, h, colors='k',levels=[-1,0, 1],linestyles=['--', '-', '--'],alpha=0.5)\n",
        "\n",
        "#plot the labeled samples \n",
        "plt.scatter(X[0:50, 0], X[0:50:, 1],s=50, marker = 'o', color = 'b', label = 'Setosa')\n",
        "plt.scatter(X[51:100, 0], X[51:100:, 1],s=50, marker = 'o', color = 'r', label = 'Versicolor')\n",
        "plt.scatter(u[0], u[1],s=80, marker = 'o', color = 'black', label = 'unseen')\n",
        "\n",
        "# plot support vectors\n",
        "plt.scatter(support_vectors[:, 0],support_vectors[:, 1], s=200, linewidth=1, facecolors='none', edgecolors='black',label = 'support vector')\n",
        "\n",
        "\n",
        "plt.legend()\n",
        "plt.show()"
      ]
    },
    {
      "cell_type": "code",
      "execution_count": null,
      "metadata": {
        "hideCode": true,
        "hidePrompt": false,
        "id": "mISm7c6o1ctk",
        "outputId": "e4018295-1b5f-4d76-eb48-242dd6fae6c6"
      },
      "outputs": [
        {
          "data": {
            "image/png": "[encoded data removed]",
            "text/plain": [
              "<Figure size 432x288 with 1 Axes>"
            ]
          },
          "metadata": {
            "needs_background": "light"
          },
          "output_type": "display_data"
        }
      ],
      "source": [
        ""
      ]
    },
    {
      "cell_type": "markdown",
      "metadata": {
        "hideCode": false,
        "hidePrompt": false,
        "id": "FEIF1lK11ctk"
      },
      "source": [
        "## Checking the results using Sklearn\n",
        "###  12. Use sklearn.svm function to fit a model for the above classification task. \n",
        "\n",
        "For the SVM model parameters use ``C=1e5`` and ``kernel='linear'``."
      ]
    },
    {
      "cell_type": "code",
      "execution_count": null,
      "metadata": {
        "id": "5-wO4DDd1ctk"
      },
      "outputs": [],
      "source": [
        "from sklearn.svm import SVC\n",
        "# import some data to play with\n",
        "y=y.ravel()\n",
        "\n",
        "## Your code here\n",
        "# 12.1 Define model\n",
        "model = \n",
        "#12.2 Fit model to the data \n",
        "\n",
        "\n",
        "## End your code"
      ]
    },
    {
      "cell_type": "markdown",
      "metadata": {
        "id": "SL0puBZO1ctl"
      },
      "source": [
        "#### Run cell below to plot the model results."
      ]
    },
    {
      "cell_type": "code",
      "execution_count": null,
      "metadata": {
        "id": "rt-yrmYh1ctl"
      },
      "outputs": [],
      "source": [
        "def plot_svc_decision_function(model, ax=None, plot_support=True):\n",
        "    \"\"\"Plot the decision function for a 2D SVC\"\"\"\n",
        "    if ax is None:\n",
        "        ax = plt.gca()\n",
        "    xlim = ax.get_xlim()\n",
        "    ylim = ax.get_ylim()\n",
        "    \n",
        "    # create grid to evaluate model\n",
        "    x = np.linspace(xlim[0], xlim[1], 30)\n",
        "    y = np.linspace(ylim[0], ylim[1], 30)\n",
        "    Y, X = np.meshgrid(y, x)\n",
        "    xy = np.vstack([X.ravel(), Y.ravel()]).T\n",
        "    P = model.decision_function(xy).reshape(X.shape)\n",
        "    \n",
        "    # plot decision boundary and margins\n",
        "    ax.contour(X, Y, P, colors='k',\n",
        "               levels=[-1, 0, 1], alpha=0.5,\n",
        "               linestyles=['--', '-', '--'])\n",
        "    \n",
        "    # plot support vectors\n",
        "    if plot_support:\n",
        "        ax.scatter(model.support_vectors_[:, 0],\n",
        "                   model.support_vectors_[:, 1],\n",
        "                   s=300, linewidth=1, facecolors='none', edgecolors='black', label = 'support vector');\n",
        "    ax.set_xlim(xlim)\n",
        "    ax.set_ylim(ylim)\n",
        "    plt.legend(loc = 'lower right')\n",
        "plt.scatter(X[:, 0], X[:, 1], c=y, s=50, cmap='bwr')\n",
        "\n",
        "plot_svc_decision_function(model)\n",
        "plt.show()"
      ]
    }
  ],
  "metadata": {
    "celltoolbar": "Hide code",
    "hide_code_all_hidden": false,
    "hide_input": false,
    "kernelspec": {
      "display_name": "Python 3 (ipykernel)",
      "language": "python",
      "name": "python3"
    },
    "language_info": {
      "codemirror_mode": {
        "name": "ipython",
        "version": 3
      },
      "file_extension": ".py",
      "mimetype": "text/x-python",
      "name": "python",
      "nbconvert_exporter": "python",
      "pygments_lexer": "ipython3",
      "version": "3.10.0"
    },
    "colab": {
      "name": "assignment_svm_01.ipynb",
      "provenance": [],
      "include_colab_link": true
    }
  },
  "nbformat": 4,
  "nbformat_minor": 0
}